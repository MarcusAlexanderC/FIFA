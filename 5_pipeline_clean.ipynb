{
 "cells": [
  {
   "cell_type": "markdown",
   "metadata": {},
   "source": [
    "# Load and clean the dataset"
   ]
  },
  {
   "cell_type": "code",
   "execution_count": 7,
   "metadata": {},
   "outputs": [
    {
     "name": "stdout",
     "output_type": "stream",
     "text": [
      "<class 'pandas.core.frame.DataFrame'>\n",
      "RangeIndex: 2000 entries, 0 to 1999\n",
      "Data columns (total 27 columns):\n",
      " #   Column                    Non-Null Count  Dtype  \n",
      "---  ------                    --------------  -----  \n",
      " 0   Unnamed: 0                2000 non-null   int64  \n",
      " 1   Name                      2000 non-null   object \n",
      " 2   Age                       2000 non-null   int64  \n",
      " 3   Nationality               2000 non-null   object \n",
      " 4   Overall                   2000 non-null   int64  \n",
      " 5   Club                      1969 non-null   object \n",
      " 6   Value                     2000 non-null   object \n",
      " 7   Wage                      2000 non-null   object \n",
      " 8   Preferred Foot            1997 non-null   object \n",
      " 9   International Reputation  1997 non-null   float64\n",
      " 10  Weak Foot                 1997 non-null   float64\n",
      " 11  Skill Moves               1997 non-null   float64\n",
      " 12  Work Rate                 1997 non-null   object \n",
      " 13  Body Type                 1997 non-null   object \n",
      " 14  Position                  1997 non-null   object \n",
      " 15  Jersey Number             1997 non-null   float64\n",
      " 16  Joined                    1833 non-null   object \n",
      " 17  Loaned From               133 non-null    object \n",
      " 18  Contract Valid Until      1966 non-null   object \n",
      " 19  Height                    1997 non-null   object \n",
      " 20  Weight                    1997 non-null   object \n",
      " 21  Finishing                 1997 non-null   float64\n",
      " 22  HeadingAccuracy           1997 non-null   float64\n",
      " 23  Dribbling                 1997 non-null   float64\n",
      " 24  Reactions                 1997 non-null   float64\n",
      " 25  Vision                    1997 non-null   float64\n",
      " 26  Release Clause            1830 non-null   object \n",
      "dtypes: float64(9), int64(3), object(15)\n",
      "memory usage: 422.0+ KB\n"
     ]
    }
   ],
   "source": [
    "df = pd.read_csv('fifa_dataset_l2f_test.csv')\n",
    "df.info()"
   ]
  },
  {
   "cell_type": "code",
   "execution_count": 8,
   "metadata": {},
   "outputs": [
    {
     "data": {
      "text/plain": [
       "Index(['Unnamed: 0', 'Name', 'Age', 'Nationality', 'Overall', 'Club', 'Value',\n",
       "       'Wage', 'Preferred Foot', 'International Reputation', 'Weak Foot',\n",
       "       'Skill Moves', 'Work Rate', 'Body Type', 'Position', 'Jersey Number',\n",
       "       'Joined', 'Loaned From', 'Contract Valid Until', 'Height', 'Weight',\n",
       "       'Finishing', 'HeadingAccuracy', 'Dribbling', 'Reactions', 'Vision',\n",
       "       'Release Clause'],\n",
       "      dtype='object')"
      ]
     },
     "execution_count": 8,
     "metadata": {},
     "output_type": "execute_result"
    }
   ],
   "source": [
    "df.columns"
   ]
  },
  {
   "cell_type": "code",
   "execution_count": 9,
   "metadata": {},
   "outputs": [],
   "source": [
    "df = df.drop(['Unnamed: 0', 'Name', 'Nationality', 'Club', 'Jersey Number', 'Joined', 'Loaned From'], \\\n",
    "        axis = 1)"
   ]
  },
  {
   "cell_type": "markdown",
   "metadata": {},
   "source": [
    "Could add 'Nationality', 'Club', 'Jersey Number', as cat. features (when feature hashing is performed)."
   ]
  },
  {
   "cell_type": "code",
   "execution_count": 12,
   "metadata": {},
   "outputs": [],
   "source": [
    "num_features = ['Age', 'Wage', 'Height', 'Weight', 'Release Clause']\n",
    "cat_features = ['Preferred Foot', 'Body Type', 'Position']\n",
    "ord_features = ['Overall', 'International Reputation', 'Weak Foot', 'Skill Moves', 'Work Rate', 'Vision', \\\n",
    "              'Finishing', 'HeadingAccuracy', 'Dribbling', 'Reactions']\n",
    "date_features = ['Contract Valid Until']"
   ]
  },
  {
   "cell_type": "markdown",
   "metadata": {},
   "source": [
    "The procedures performed below can be performed before the pipeline is implemented.\n",
    "\n",
    "We assume that the different work rate levels are known beforehand and can be ranked in an ordinal fashion."
   ]
  },
  {
   "cell_type": "code",
   "execution_count": 13,
   "metadata": {},
   "outputs": [],
   "source": [
    "def clean_num_features(my_string):\n",
    "    my_string = my_string.replace('€', '')\n",
    "    if 'K' in my_string:\n",
    "        my_number = float(my_string.split('K')[0]) * 10 ** 3        \n",
    "    if 'M' in my_string:\n",
    "        my_number = float(my_string.split('M')[0]) * 10 **6\n",
    "    if my_string == '0':\n",
    "        my_number = float(my_string)\n",
    "    return my_number\n",
    "\n",
    "df['Value'] = df['Value'].apply(clean_num_features)\n",
    "\n",
    "df['Wage'] = df['Wage'].apply(clean_num_features)\n",
    "\n",
    "df['Release Clause'] = df[df['Release Clause'].notnull()]['Release Clause'].apply(clean_num_features)\n",
    "\n",
    "df['Weight'] = df['Weight'].str.replace('lbs', '')\n",
    "\n",
    "df['Height'] = df['Height'].str.split(\"'\", expand = True).iloc[:,0].astype('float').multiply(30.48) \\\n",
    ".add(df['Height'].str.split(\"'\", expand = True).iloc[:,1].astype('float').multiply(2.54))\n",
    "\n",
    "Attack_WR = df['Work Rate'].str.split('/', expand = True).iloc[:,0]\n",
    "Defense_WR = df['Work Rate'].str.split('/', expand = True).iloc[:,1].str.replace(' ', '')\n",
    "\n",
    "my_dict = {'Low':0, 'Medium':1, 'High':2}\n",
    "\n",
    "Attack_WR = Attack_WR.map(my_dict)\n",
    "Defense_WR = Defense_WR.map(my_dict)\n",
    "\n",
    "df['Attack_WR'] = Attack_WR\n",
    "\n",
    "df['Defense_WR'] = Defense_WR\n",
    "\n",
    "df = df.drop('Work Rate', axis=1)\n",
    "\n",
    "ord_features.remove('Work Rate')\n",
    "ord_features.append('Attack_WR')\n",
    "ord_features.append('Defense_WR')\n",
    "\n",
    "df[num_features]=df[num_features].astype('float')\n",
    "df[cat_features]=df[cat_features].astype('category')\n",
    "#df[ord_features]=df[ord_features].astype('Int64') # Should be OK to use float\n",
    "df[ord_features]=df[ord_features].astype('float')\n",
    "\n",
    "df['Value'] = df['Value'].astype('float')\n",
    "\n",
    "skipPosition = False # Set in order to have a clean start."
   ]
  }
 ],
 "metadata": {
  "kernelspec": {
   "display_name": "Python 3",
   "language": "python",
   "name": "python3"
  },
  "language_info": {
   "codemirror_mode": {
    "name": "ipython",
    "version": 3
   },
   "file_extension": ".py",
   "mimetype": "text/x-python",
   "name": "python",
   "nbconvert_exporter": "python",
   "pygments_lexer": "ipython3",
   "version": "3.7.7"
  }
 },
 "nbformat": 4,
 "nbformat_minor": 4
}

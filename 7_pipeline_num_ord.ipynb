{
 "cells": [
  {
   "cell_type": "markdown",
   "metadata": {},
   "source": [
    "# Numerical + ordinal features"
   ]
  },
  {
   "cell_type": "markdown",
   "metadata": {},
   "source": [
    "#### KNeighborsRegressor"
   ]
  },
  {
   "cell_type": "code",
   "execution_count": null,
   "metadata": {},
   "outputs": [],
   "source": [
    "knr = KNeighborsRegressor()\n",
    "key = 'kneighborsregressor' \n",
    "\n",
    "param_grid = [{'regressor__col_trans__imp_num_cols__strategy': ['most_frequent', 'mean', 'median'],\n",
    "               'regressor__col_trans__imp_ord_cols__strategy': ['most_frequent', 'mean', 'median'],\n",
    "              'regressor__scaler': [None, StandardScaler(), RobustScaler()],\n",
    "               'regressor__model': [knr],\n",
    "               'regressor__model__weights': ['uniform', 'distance'],\n",
    "               'regressor__model__n_neighbors': np.arange(1, 10),\n",
    "              'transformer': [None, StandardScaler(), RobustScaler()]}]\n",
    "\n",
    "load_run_save_GSRSCV(param_grid, key, search_type = 'GS')\n",
    "load_run_save_GSRSCV(param_grid, key, search_type = 'RS', n_iter = n_iter)"
   ]
  },
  {
   "cell_type": "markdown",
   "metadata": {},
   "source": [
    "#### Linear Models"
   ]
  },
  {
   "cell_type": "code",
   "execution_count": null,
   "metadata": {},
   "outputs": [],
   "source": [
    "lr = LinearRegression()\n",
    "lasso = Lasso(max_iter = 10 ** 5)\n",
    "ridge = Ridge()\n",
    "key = 'linearregression_lasso_ridge'\n",
    "\n",
    "param_grid = [{'regressor__col_trans__imp_num_cols__strategy': ['most_frequent', 'mean', 'median'],\n",
    "               'regressor__col_trans__imp_ord_cols__strategy': ['most_frequent', 'mean', 'median'],\n",
    "              'regressor__scaler': [None, StandardScaler(), RobustScaler()],\n",
    "               'regressor__model': [lr],\n",
    "               'regressor__model__normalize': [False, True],\n",
    "               'regressor__model__fit_intercept': [False, True],\n",
    "               'transformer': [None, StandardScaler(), RobustScaler(), PowerTransformer()]},\n",
    "             {'regressor__col_trans__imp_num_cols__strategy': ['most_frequent', 'mean', 'median'],\n",
    "              'regressor__col_trans__imp_ord_cols__strategy': ['most_frequent', 'mean', 'median'],\n",
    "              'regressor__scaler': [None, StandardScaler(), RobustScaler()],\n",
    "               'regressor__model': [lasso, ridge],\n",
    "               'regressor__model__normalize': [False, True],\n",
    "               'regressor__model__fit_intercept': [False, True],\n",
    "               'regressor__model__alpha': np.array([0.01, 0.1, 1, 10, 100]),\n",
    "              'transformer': [None, StandardScaler(), RobustScaler(), PowerTransformer()]}]\n",
    "\n",
    "load_run_save_GSRSCV(param_grid, key, search_type = 'GS')\n",
    "load_run_save_GSRSCV(param_grid, key, search_type = 'RS', n_iter = n_iter)"
   ]
  },
  {
   "cell_type": "code",
   "execution_count": null,
   "metadata": {},
   "outputs": [],
   "source": [
    "en = ElasticNet(max_iter = 10 ** 6, random_state = 1)\n",
    "hr = HuberRegressor()\n",
    "key = 'elasticnet_huberregressor'\n",
    "\n",
    "param_grid = [{'regressor__col_trans__imp_num_cols__strategy': ['most_frequent', 'mean', 'median'],\n",
    "               'regressor__col_trans__imp_ord_cols__strategy': ['most_frequent', 'mean', 'median'],\n",
    "              'regressor__scaler': [None, StandardScaler(), RobustScaler()],\n",
    "               'regressor__model': [en],\n",
    "               'regressor__model__normalize': [False, True],\n",
    "               'regressor__model__fit_intercept': [False, True],\n",
    "               'regressor__model__alpha': np.array([0.01, 0.1, 1, 10, 100]),\n",
    "               'regressor__model__l1_ratio': np.array([0.05, 0.25, 0.50, 0.75, 0.95]),\n",
    "              'transformer': [None, StandardScaler(), RobustScaler(), PowerTransformer()]},\n",
    "             {'regressor__col_trans__imp_num_cols__strategy': ['most_frequent', 'mean', 'median'],\n",
    "              'regressor__col_trans__imp_ord_cols__strategy': ['most_frequent', 'mean', 'median'],\n",
    "              'regressor__scaler': [None, StandardScaler(), RobustScaler()],\n",
    "               'regressor__model': [hr],\n",
    "               'regressor__model__alpha': np.array([0.01, 0.1, 1, 10, 100]),               \n",
    "              'transformer': [None, StandardScaler(), RobustScaler(), PowerTransformer()]}]\n",
    "\n",
    "load_run_save_GSRSCV(param_grid, key, search_type = 'GS')\n",
    "load_run_save_GSRSCV(param_grid, key, search_type = 'RS', n_iter = n_iter)"
   ]
  },
  {
   "cell_type": "markdown",
   "metadata": {},
   "source": [
    "#### Ensemble Methods"
   ]
  },
  {
   "cell_type": "code",
   "execution_count": null,
   "metadata": {},
   "outputs": [],
   "source": [
    "rfr = RandomForestRegressor(random_state = 1)\n",
    "key = 'randomforestregressor'\n",
    "\n",
    "param_grid = [{'regressor__col_trans__imp_num_cols__strategy': ['most_frequent', 'mean', 'median'],\n",
    "               'regressor__col_trans__imp_ord_cols__strategy': ['most_frequent', 'mean', 'median'],\n",
    "              'regressor__scaler': [None, StandardScaler(), RobustScaler()],\n",
    "               'regressor__model': [rfr],\n",
    "               'regressor__model__n_estimators': np.arange(10, 101, 10),\n",
    "               'regressor__model__max_features': [2, 'auto', 'sqrt'],\n",
    "               'regressor__model__max_depth': [None, 10, 50, 100],\n",
    "               'regressor__model__min_samples_leaf': [1, 3, 5],\n",
    "               'regressor__model__min_samples_split': [2, 4, 8],\n",
    "               'regressor__model__bootstrap': [True, False],\n",
    "               'transformer': [None, StandardScaler(), RobustScaler(), PowerTransformer()]}]\n",
    "\n",
    "#load_run_save_GSRSCV(param_grid, key, search_type = 'GS')\n",
    "load_run_save_GSRSCV(param_grid, key, search_type = 'RS', n_iter = n_iter)"
   ]
  },
  {
   "cell_type": "code",
   "execution_count": null,
   "metadata": {},
   "outputs": [],
   "source": [
    "etr = ExtraTreesRegressor(random_state = 1)\n",
    "key = 'extratreesregressor'\n",
    "\n",
    "param_grid = [{'regressor__col_trans__imp_num_cols__strategy': ['most_frequent', 'mean', 'median'],\n",
    "               'regressor__col_trans__imp_ord_cols__strategy': ['most_frequent', 'mean', 'median'],\n",
    "              'regressor__scaler': [None, StandardScaler(), RobustScaler()],\n",
    "               'regressor__model': [etr],\n",
    "               'regressor__model__n_estimators': np.arange(10, 101, 10),\n",
    "               'regressor__model__max_features': [2, 'auto', 'sqrt'],\n",
    "               'regressor__model__max_depth': [None, 10, 50, 100],\n",
    "               'regressor__model__min_samples_leaf': [1, 3, 5],\n",
    "               'regressor__model__min_samples_split': [2, 4, 8],\n",
    "               'regressor__model__bootstrap': [True, False],\n",
    "               'transformer': [None, StandardScaler(), RobustScaler(), PowerTransformer()]}]\n",
    "\n",
    "#load_run_save_GSRSCV(param_grid, key, search_type = 'GS')\n",
    "load_run_save_GSRSCV(param_grid, key, search_type = 'RS', n_iter = n_iter)"
   ]
  },
  {
   "cell_type": "code",
   "execution_count": null,
   "metadata": {},
   "outputs": [],
   "source": [
    "abr = AdaBoostRegressor(random_state = 1)\n",
    "key = 'adaboostregressor'\n",
    "\n",
    "param_grid = [{'regressor__col_trans__imp_num_cols__strategy': ['most_frequent', 'mean', 'median'],\n",
    "               'regressor__col_trans__imp_ord_cols__strategy': ['most_frequent', 'mean', 'median'],\n",
    "              'regressor__scaler': [None, StandardScaler(), RobustScaler()],\n",
    "               'regressor__model': [abr],\n",
    "               'regressor__model__n_estimators': np.arange(10, 101, 10),\n",
    "               'regressor__model__learning_rate': [0.01, 0.02, 0.05, 0.1, 1],\n",
    "               'regressor__model__loss': ['linear', 'square', 'exponential'],               \n",
    "               'transformer': [None, StandardScaler(), RobustScaler(), PowerTransformer()]}]\n",
    "\n",
    "#load_run_save_GSRSCV(param_grid, key, search_type = 'GS')\n",
    "load_run_save_GSRSCV(param_grid, key, search_type = 'RS', n_iter = n_iter)"
   ]
  },
  {
   "cell_type": "code",
   "execution_count": null,
   "metadata": {},
   "outputs": [],
   "source": [
    "gbr = GradientBoostingRegressor(random_state = 1)\n",
    "key = 'gradientboostingregressor'\n",
    "\n",
    "param_grid = [{'regressor__col_trans__imp_num_cols__strategy': ['most_frequent', 'mean', 'median'],\n",
    "               'regressor__col_trans__imp_ord_cols__strategy': ['most_frequent', 'mean', 'median'],\n",
    "               'regressor__scaler': [None, StandardScaler(), RobustScaler()],\n",
    "               'regressor__model': [gbr],\n",
    "               'regressor__model__loss': ['ls', 'lad', 'huber', 'quantile'], \n",
    "               'regressor__model__learning_rate': [0.01, 0.02, 0.05, 0.1, 1],\n",
    "               'regressor__model__n_estimators': np.arange(10, 101, 10),\n",
    "               'regressor__model__max_features': [2, 'auto', 'sqrt'],\n",
    "               'regressor__model__max_depth': [None, 3, 5, 10, 50, 100],\n",
    "               'regressor__model__min_samples_leaf': [1, 3, 5],\n",
    "               'regressor__model__min_samples_split': [2, 4, 8],\n",
    "               'transformer': [None, StandardScaler(), RobustScaler(), PowerTransformer()]}]\n",
    "\n",
    "#load_run_save_GSRSCV(param_grid, key, search_type = 'GS')\n",
    "load_run_save_GSRSCV(param_grid, key, search_type = 'RS', n_iter = n_iter)"
   ]
  },
  {
   "cell_type": "code",
   "execution_count": null,
   "metadata": {},
   "outputs": [],
   "source": [
    "xgbr = XGBRegressor(objective = 'reg:squarederror', random_state = 1)\n",
    "key = 'xgbregressor'\n",
    "\n",
    "param_grid = [{'regressor__col_trans__imp_num_cols__strategy': ['most_frequent', 'mean', 'median'],\n",
    "               'regressor__col_trans__imp_ord_cols__strategy': ['most_frequent', 'mean', 'median'],\n",
    "              'regressor__scaler': [None, StandardScaler(), RobustScaler()],\n",
    "               'regressor__model': [xgbr],\n",
    "               'regressor__model__alpha': [0, 1, 10, 100],\n",
    "               'regressor__model__lambda': [0, 1, 10, 100],\n",
    "               'regressor__model__subsample': [0.3, 0.5, 0.7, 0.9, 1],\n",
    "               'regressor__model__colsample_bytree': [0.3, 0.5, 0.7, 1],\n",
    "               'regressor__model__loss': ['ls', 'lad', 'huber', 'quantile'], \n",
    "               'regressor__model__learning_rate': [0.01, 0.02, 0.05, 0.1, 0.9, 1],\n",
    "               'regressor__model__n_estimators': np.arange(10, 101, 10),\n",
    "               'regressor__model__max_features': [2, 'auto', 'sqrt'],\n",
    "               'regressor__model__max_depth': [None, 3, 5, 10, 50, 100],\n",
    "               'regressor__model__min_samples_leaf': [1, 3, 5],\n",
    "               'regressor__model__min_samples_split': [2, 4, 8],\n",
    "               'transformer': [None, StandardScaler(), RobustScaler(), PowerTransformer()]}]\n",
    "\n",
    "#load_run_save_GSRSCV(param_grid, key, search_type = 'GS')\n",
    "load_run_save_GSRSCV(param_grid, key, search_type = 'RS', n_iter = n_iter)"
   ]
  }
 ],
 "metadata": {
  "kernelspec": {
   "display_name": "Python 3",
   "language": "python",
   "name": "python3"
  },
  "language_info": {
   "codemirror_mode": {
    "name": "ipython",
    "version": 3
   },
   "file_extension": ".py",
   "mimetype": "text/x-python",
   "name": "python",
   "nbconvert_exporter": "python",
   "pygments_lexer": "ipython3",
   "version": "3.8.6"
  }
 },
 "nbformat": 4,
 "nbformat_minor": 4
}
